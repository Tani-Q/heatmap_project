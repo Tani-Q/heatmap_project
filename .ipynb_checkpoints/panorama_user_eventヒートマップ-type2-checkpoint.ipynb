{
 "cells": [
  {
   "cell_type": "code",
   "execution_count": 1,
   "metadata": {},
   "outputs": [],
   "source": [
    "# -*- coding:utf-8 -*-\n",
    "import csv\n",
    "import math\n",
    "\n",
    "import seaborn as sns\n",
    "import pandas as pd\n",
    "import numpy as np\n",
    "import matplotlib as mpl\n",
    "import matplotlib.pyplot as plt\n",
    "import pickle\n",
    "\n",
    "import cv2\n",
    "from PIL import Image\n",
    "\n",
    "%matplotlib inline"
   ]
  },
  {
   "cell_type": "code",
   "execution_count": 2,
   "metadata": {},
   "outputs": [],
   "source": [
    "#csv_file = open(\"./6581986.csv\", \"r\")\n",
    "csv_file = open(\"./3453421.csv\", \"r\")\n",
    "#リスト形式\n",
    "f = csv.reader(csv_file, delimiter=\",\", doublequote=True, lineterminator=\"\\r\\n\", quotechar='\"', skipinitialspace=True)\n",
    "#next(csv.reader(f))"
   ]
  },
  {
   "cell_type": "code",
   "execution_count": null,
   "metadata": {},
   "outputs": [],
   "source": [
    "axis_data_lst = []\n",
    "f_lst = []\n",
    "idx = 0\n",
    "for line in f:\n",
    "    xy_lst = []\n",
    "    f_lst.append(line)\n",
    "    #line[0] = idx\n",
    "    #　小数点以下切り上げ\n",
    "    line[1] = math.ceil(float(line[1]))\n",
    "    line[2] = math.ceil(float(line[2]))\n",
    "    #x軸補正\n",
    "    #if line[1] < 0:\n",
    "        #xy_lst.append(line[1]*(-1) + 90)\n",
    "    #else:\n",
    "        #xy_lst.append((line[1] - 90)*(-1))\n",
    "     #補正無しX軸   \n",
    "    xy_lst.append(line[1])\n",
    "    \n",
    "    #y軸補正\n",
    "    fix_y = line[2] + 180\n",
    "    if fix_y > 360 :\n",
    "        xy_lst.append(fix_y - 360)\n",
    "    else:\n",
    "        xy_lst.append(fix_y)\n",
    "    \n",
    "    axis_data_lst.append(xy_lst)\n",
    "    #idx += 1\n",
    "\n",
    "#5427509データ補正    \n",
    "#axis_data_lst.append([90,0])"
   ]
  },
  {
   "cell_type": "code",
   "execution_count": null,
   "metadata": {},
   "outputs": [],
   "source": [
    "lst_2d=[]\n",
    "x_lst=[]\n",
    "y_lst=[]\n",
    "# 正規化\n",
    "for line in axis_data_lst:\n",
    "    xy_lst = []\n",
    "    #正規化の場合\n",
    "    #x = math.ceil((line[0]/180)*255)\n",
    "    #y = math.ceil((line[1]/360)*511)\n",
    "    #無正規化の場合\n",
    "    x = line[0]\n",
    "    y = line[1]\n",
    "    \n",
    "    x_lst.append(x)\n",
    "    y_lst.append(y)\n",
    "    \n",
    "    lst_2d.append(xy_lst)\n",
    " "
   ]
  },
  {
   "cell_type": "code",
   "execution_count": null,
   "metadata": {},
   "outputs": [],
   "source": [
    "max_num = 0\n",
    "min_num = 1000\n",
    "for x in x_lst:\n",
    "    if x > max_num:\n",
    "        max_num = x\n",
    "    if x < min_num:\n",
    "        min_num = x\n",
    "print('max:{}/min:{}'.format(max_num,min_num))"
   ]
  },
  {
   "cell_type": "code",
   "execution_count": null,
   "metadata": {},
   "outputs": [],
   "source": [
    "for x in range(44,90):\n",
    "    x_lst.append(x)\n",
    "for y in range(44,90):\n",
    "    y_lst.append(0)"
   ]
  },
  {
   "cell_type": "code",
   "execution_count": null,
   "metadata": {},
   "outputs": [],
   "source": [
    "def draw_heatmap(x, y,filename):\n",
    "    heatmap, xedges, yedges = np.histogram2d(x, y, bins=[10,10])\n",
    "    #heatmap, xedges, yedges = np.histogram2d(x, y, bins=[10,20], range=[ [-0, 360], [-90,90] ])\n",
    "    \n",
    "    extent = [xedges[0], xedges[-1], yedges[0], yedges[-1]]\n",
    "    #extent = [xedges[0], xedges[-1], yedges[-1], yedges[0]] #y軸反転設定\n",
    "\n",
    "    #plt.figure()\n",
    "    #plt.figure(figsize=(40, 80), dpi=50)\n",
    "    plt.figure(figsize=(20.48, 10.24))\n",
    "    \n",
    "    #ラベル、軸表示設定\n",
    "    plt.tick_params(labelbottom=False,labelleft=False,labelright=False,labeltop=False)\n",
    "    plt.tick_params(bottom=False,left=False,right=False,top=False)\n",
    "    mpl.rcParams['axes.xmargin'] = 0\n",
    "    mpl.rcParams['axes.ymargin'] = 0\n",
    "    \n",
    "    #plt.figure(figsize=(256, 512), dpi=50)\n",
    "    #plt.xlabel(\"xlabel\", fontsize=1\n",
    "    #plt.ylabel(\"ylabel\", fontsize=18)\n",
    "    #plt.legend(fontsize=30)\n",
    "    #plt.tick_params(labelsize=30)\n",
    "    plt.imshow(heatmap, extent=extent)\n",
    "    \n",
    "    f_name = 'image_' + filename + '.jpg'\n",
    "    plt.savefig(f_name)\n",
    "    plt.show()"
   ]
  },
  {
   "cell_type": "code",
   "execution_count": null,
   "metadata": {
    "scrolled": false
   },
   "outputs": [],
   "source": [
    "draw_heatmap(y_lst, x_lst,'3453421')"
   ]
  },
  {
   "cell_type": "code",
   "execution_count": null,
   "metadata": {},
   "outputs": [],
   "source": [
    "filename = './image_3453421.jpg'\n",
    "img2 = cv2.imread(filename)\n",
    "height = img2.shape[0]\n",
    "width = img2.shape[1]\n",
    "print('h:{}/w{}'.format(height,width))"
   ]
  },
  {
   "cell_type": "code",
   "execution_count": null,
   "metadata": {},
   "outputs": [],
   "source": [
    "#余白削除\n",
    "def margin_cut(file_name='./image_3453421.jpg',output_name='img2_edge.jpg'):\n",
    "    filename = file_name #'./image_3453421.jpg'\n",
    "    img = cv2.imread(filename)\n",
    "    img2 = cv2.imread(filename)\n",
    "\n",
    "    # Grayscale に変換\n",
    "    img_gs = cv2.cvtColor(img, cv2.COLOR_BGR2GRAY)\n",
    "\n",
    "    # 2 値化\n",
    "    ret, thresh = cv2.threshold(img_gs, 250, 255, cv2.THRESH_BINARY)\n",
    "\n",
    "    # 輪郭を取得\n",
    "    contours, hierarchy = cv2.findContours(thresh, cv2.RETR_TREE, cv2.CHAIN_APPROX_SIMPLE)\n",
    "\n",
    "    # i = 1 は画像全体の外枠になるのでカウントに入れない\n",
    "    x1 = []\n",
    "    y1 = []\n",
    "    x2 = []\n",
    "    y2 = []\n",
    "    for i in range(1, len(contours)):\n",
    "        # ret の中身は (x, y, w, h)\n",
    "        ret = cv2.boundingRect(contours[i])\n",
    "        x1.append(ret[0])\n",
    "        y1.append(ret[1])\n",
    "        x2.append(ret[0] + ret[2])\n",
    "        y2.append(ret[1] + ret[3])\n",
    "\n",
    "    x1_min = min(x1)\n",
    "    y1_min = min(y1)\n",
    "    x2_max = max(x2)\n",
    "    y2_max = max(y2)\n",
    "\n",
    "    # 枠取りをした結果を表示\n",
    "    #cv2.rectangle(img, (x1_min, y1_min), (x2_max, y2_max), (0, 255, 0), 2)\n",
    "    #cv2.imwrite('cropped_edge_rectangle.jpg', img)\n",
    "\n",
    "    # ギリギリで切り出し\n",
    "    crop_img = img2[y1_min:y2_max, x1_min:x2_max]\n",
    "    cv2.imwrite(output_name, crop_img)\n"
   ]
  },
  {
   "cell_type": "code",
   "execution_count": null,
   "metadata": {},
   "outputs": [],
   "source": [
    "margin_cut"
   ]
  },
  {
   "cell_type": "code",
   "execution_count": null,
   "metadata": {},
   "outputs": [],
   "source": [
    "filename = './3453421_2048x1024.jpeg'\n",
    "\n",
    "# 画像ファイルパスから読み込み\n",
    "img = cv2.imread(filename)\n",
    "\n",
    "# バイナリから読み込み(python3なのでbinaryモードで読み込み)\n",
    "with open(filename, 'rb') as f:\n",
    "    binary = f.read()\n",
    "# 一度ndarrayに変換してからdecodeします。reshapeだけしてると思われます.\n",
    "arr = np.asarray(bytearray(binary), dtype=np.uint8)\n",
    "img = cv2.imdecode(arr, -1)  # 'load it as it is'\n",
    "\n",
    "# numpy配列の取得、インスタンス自体がndarrayです\n",
    "type(img) # numpy.ndarray\n",
    "\n",
    "# デフォルトの色がBGR。\n",
    "# 色の変換は充実。ただし指定のチェックは甘い(間違えて指定しても普通に変換される)\n",
    "rgb = cv2.cvtColor(img, cv2.COLOR_BGR2RGB)\n",
    "#lab = cv2.cvtColor(img, cv2.COLOR_BGR2LAB)"
   ]
  },
  {
   "cell_type": "code",
   "execution_count": null,
   "metadata": {},
   "outputs": [],
   "source": [
    "filename = './3453421_2048x1024.jpeg'\n",
    "img = cv2.imread(filename)\n",
    "#cv2.imshow(\"color\",img)\n",
    "#cv2.imshow(\"gray\",img2)\n",
    "#cv2.waitKey(0)\n",
    "#cv2.destroyAllWindows()"
   ]
  },
  {
   "cell_type": "code",
   "execution_count": null,
   "metadata": {},
   "outputs": [],
   "source": [
    "height = img.shape[0]\n",
    "width = img.shape[1]\n",
    "print('h:{}/w{}'.format(height,width))"
   ]
  },
  {
   "cell_type": "code",
   "execution_count": null,
   "metadata": {},
   "outputs": [],
   "source": [
    "filename = './image_3453421.jpg'\n",
    "img2 = cv2.imread(filename)"
   ]
  },
  {
   "cell_type": "code",
   "execution_count": null,
   "metadata": {},
   "outputs": [],
   "source": [
    "height = img2.shape[0]\n",
    "width = img2.shape[1]\n",
    "print('h:{}/w{}'.format(height,width))"
   ]
  },
  {
   "cell_type": "code",
   "execution_count": null,
   "metadata": {},
   "outputs": [],
   "source": [
    "#画像の表示\n",
    "plt.imshow(cv2.cvtColor(img, cv2.COLOR_BGR2RGB)) # OpenCV は色がGBR順なのでRGB順に並べ替える\n",
    "plt.show()"
   ]
  },
  {
   "cell_type": "code",
   "execution_count": null,
   "metadata": {},
   "outputs": [],
   "source": [
    "filename = 'img2_edge.jpg'\n",
    "img2 = cv2.imread(filename)\n",
    "plt.imshow(cv2.cvtColor(img2, cv2.COLOR_BGR2RGB)) # OpenCV は色がGBR順なのでRGB順に並べ替える\n",
    "plt.show()"
   ]
  },
  {
   "cell_type": "code",
   "execution_count": null,
   "metadata": {},
   "outputs": [],
   "source": [
    "height = img2.shape[0]\n",
    "width = img2.shape[1]\n",
    "print(img2.shape)"
   ]
  },
  {
   "cell_type": "code",
   "execution_count": null,
   "metadata": {},
   "outputs": [],
   "source": [
    "#サイズ調整\n",
    "img2_1 = cv2.resize(img2 , (int(width*(2048/width)), int(height*(2048/width))))\n",
    "print(img2_1.shape)\n",
    "cv2.imwrite('img2_1_edge.jpg', img2_1)"
   ]
  },
  {
   "cell_type": "code",
   "execution_count": null,
   "metadata": {},
   "outputs": [],
   "source": [
    "im = Image.open('img2_1_edge.jpg')"
   ]
  },
  {
   "cell_type": "code",
   "execution_count": null,
   "metadata": {},
   "outputs": [],
   "source": [
    "def add_margin(pil_img, top, right, bottom, left, color):\n",
    "    width, height = pil_img.size\n",
    "    new_width = width + right + left\n",
    "    new_height = height + top + bottom\n",
    "    result = Image.new(pil_img.mode, (new_width, new_height), color)\n",
    "    result.paste(pil_img, (left, top))\n",
    "    return result"
   ]
  },
  {
   "cell_type": "code",
   "execution_count": null,
   "metadata": {},
   "outputs": [],
   "source": [
    "#余白によるサイズ調整\n",
    "im_new = add_margin(im, (1024-763), 0, 0, 0, (0, 0, 0))\n",
    "im_new.save('img2_add_margin.jpg', quality=100)"
   ]
  },
  {
   "cell_type": "code",
   "execution_count": null,
   "metadata": {},
   "outputs": [],
   "source": [
    "filename = './img2_add_margin.jpg'\n",
    "img3 = cv2.imread(filename)"
   ]
  },
  {
   "cell_type": "code",
   "execution_count": null,
   "metadata": {},
   "outputs": [],
   "source": [
    "height = img3.shape[0]\n",
    "width = img3.shape[1]\n",
    "print('h:{}/w{}'.format(height,width))"
   ]
  },
  {
   "cell_type": "code",
   "execution_count": null,
   "metadata": {},
   "outputs": [],
   "source": [
    "blended = cv2.addWeighted(src1=img,alpha=0.6,src2=img3,beta=0.4,gamma=0.3)\n",
    "plt.imshow(blended)"
   ]
  },
  {
   "cell_type": "code",
   "execution_count": null,
   "metadata": {},
   "outputs": [],
   "source": [
    "cv2.imwrite('blended_test.jpg', blended)"
   ]
  },
  {
   "cell_type": "code",
   "execution_count": null,
   "metadata": {},
   "outputs": [],
   "source": []
  }
 ],
 "metadata": {
  "kernelspec": {
   "display_name": "Python 3",
   "language": "python",
   "name": "python3"
  },
  "language_info": {
   "codemirror_mode": {
    "name": "ipython",
    "version": 3
   },
   "file_extension": ".py",
   "mimetype": "text/x-python",
   "name": "python",
   "nbconvert_exporter": "python",
   "pygments_lexer": "ipython3",
   "version": "3.7.4"
  }
 },
 "nbformat": 4,
 "nbformat_minor": 2
}
